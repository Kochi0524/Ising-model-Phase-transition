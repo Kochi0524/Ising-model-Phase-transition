{
  "nbformat": 4,
  "nbformat_minor": 0,
  "metadata": {
    "colab": {
      "provenance": [],
      "gpuType": "T4"
    },
    "kernelspec": {
      "name": "python3",
      "display_name": "Python 3"
    },
    "language_info": {
      "name": "python"
    },
    "accelerator": "GPU"
  },
  "cells": [
    {
      "cell_type": "code",
      "execution_count": 1,
      "metadata": {
        "id": "uAagJNsy9Mqg"
      },
      "outputs": [],
      "source": [
        "import torch\n",
        "import torch.nn as nn\n",
        "import torch.optim as optim\n",
        "import numpy as np\n",
        "import matplotlib.pyplot as plt\n",
        "import pandas as pd\n",
        "from torch.utils.data import DataLoader, Dataset"
      ]
    },
    {
      "cell_type": "code",
      "source": [
        "device = 'cuda' if torch.cuda.is_available() else 'cpu'"
      ],
      "metadata": {
        "id": "4GE2KzcmB3hl"
      },
      "execution_count": 2,
      "outputs": []
    },
    {
      "cell_type": "code",
      "source": [
        "device"
      ],
      "metadata": {
        "colab": {
          "base_uri": "https://localhost:8080/",
          "height": 35
        },
        "id": "yvjJnDymCNXU",
        "outputId": "05e4db17-bc8e-4cf9-c6f5-b20c5957f710"
      },
      "execution_count": 3,
      "outputs": [
        {
          "output_type": "execute_result",
          "data": {
            "text/plain": [
              "'cuda'"
            ],
            "application/vnd.google.colaboratory.intrinsic+json": {
              "type": "string"
            }
          },
          "metadata": {},
          "execution_count": 3
        }
      ]
    },
    {
      "cell_type": "code",
      "source": [
        "from google.colab import drive\n",
        "drive.mount('/content/drive')"
      ],
      "metadata": {
        "colab": {
          "base_uri": "https://localhost:8080/"
        },
        "id": "kho8wWD6COzK",
        "outputId": "a08acd35-9eea-4f6b-f4dd-caa8a3c2f335"
      },
      "execution_count": 5,
      "outputs": [
        {
          "output_type": "stream",
          "name": "stdout",
          "text": [
            "Drive already mounted at /content/drive; to attempt to forcibly remount, call drive.mount(\"/content/drive\", force_remount=True).\n"
          ]
        }
      ]
    },
    {
      "cell_type": "code",
      "source": [
        "class IsingDataset(Dataset):\n",
        "    def __init__(self, csv_file):\n",
        "        self.data = pd.read_csv(csv_file, header=None)\n",
        "        # NOTE: 磁性ラベルがなぜか-1ではなく-2になっている\n",
        "        self.temperature = torch.tensor(self.data.iloc[:,0].values, dtype=torch.float32)\n",
        "        self.spins = torch.tensor(self.data.iloc[:,1:-2].values, dtype=torch.float32).view(-1,1,20,20)\n",
        "        self.labels = torch.tensor(self.data.iloc[:,-2].values, dtype=torch.float32)\n",
        "\n",
        "    def __len__(self):\n",
        "        return len(self.data)\n",
        "\n",
        "    def __getitem__(self, idx):\n",
        "        return self.temperature[idx],self.spins[idx], self.labels[idx]"
      ],
      "metadata": {
        "id": "L7HbFKv11AR6"
      },
      "execution_count": 6,
      "outputs": []
    },
    {
      "cell_type": "code",
      "source": [
        "train_dataset = IsingDataset('/content/drive/MyDrive/Colab Notebooks/train.csv')\n",
        "val_dataset = IsingDataset('/content/drive/MyDrive/Colab Notebooks/val.csv')"
      ],
      "metadata": {
        "id": "Tv_BIgDUD1Ej"
      },
      "execution_count": 7,
      "outputs": []
    },
    {
      "cell_type": "code",
      "source": [
        "train_dataset.spins[0].shape"
      ],
      "metadata": {
        "colab": {
          "base_uri": "https://localhost:8080/"
        },
        "id": "N6lG4kmEEj8A",
        "outputId": "ead6547d-0fbc-48f3-aca6-e3a1ad54cba6"
      },
      "execution_count": 8,
      "outputs": [
        {
          "output_type": "execute_result",
          "data": {
            "text/plain": [
              "torch.Size([1, 20, 20])"
            ]
          },
          "metadata": {},
          "execution_count": 8
        }
      ]
    },
    {
      "cell_type": "code",
      "source": [
        "# CNN\n",
        "class ising2d_classifier(nn.Module):\n",
        "    def __init__(self):\n",
        "        super().__init__()\n",
        "        self.features = nn.Sequential(\n",
        "            nn.Conv2d(in_channels=1, out_channels=16, kernel_size=5, padding=2),\n",
        "            nn.ReLU(inplace=True),\n",
        "            nn.MaxPool2d(kernel_size=2),\n",
        "            nn.Conv2d(in_channels=16, out_channels=32, kernel_size=3, padding=1),\n",
        "            nn.ReLU(inplace=True),\n",
        "            nn.MaxPool2d(kernel_size=2),\n",
        "            nn.Conv2d(in_channels=32, out_channels=64, kernel_size=3, padding=1),\n",
        "            nn.ReLU(inplace=True),\n",
        "        )\n",
        "        self.classifier = nn.Linear(in_features=64 * 5 * 5, out_features=1)\n",
        "    def forward(self, x):\n",
        "        x = self.features(x)\n",
        "        x = x.view(x.size(0),-1)\n",
        "        x = self.classifier(x)\n",
        "        x = torch.sigmoid(x)\n",
        "        return x\n",
        ""
      ],
      "metadata": {
        "id": "ZFvx1uAcKuj5"
      },
      "execution_count": 9,
      "outputs": []
    },
    {
      "cell_type": "code",
      "source": [
        "model = ising2d_classifier()"
      ],
      "metadata": {
        "id": "x-bDCOHHNlMc"
      },
      "execution_count": 10,
      "outputs": []
    },
    {
      "cell_type": "code",
      "source": [
        "batch_size = 128\n",
        "train_data_loader = DataLoader(train_dataset, batch_size=batch_size, shuffle=True)\n",
        "val_data_loader = DataLoader(val_dataset, batch_size=batch_size, shuffle=True)"
      ],
      "metadata": {
        "id": "6YeyB_38zT2j"
      },
      "execution_count": 11,
      "outputs": []
    },
    {
      "cell_type": "code",
      "source": [
        "model.to(device)"
      ],
      "metadata": {
        "colab": {
          "base_uri": "https://localhost:8080/"
        },
        "id": "CZ-S_7SjNqok",
        "outputId": "3d9e330e-5bed-46db-c8b2-33235e78d9a2"
      },
      "execution_count": 12,
      "outputs": [
        {
          "output_type": "execute_result",
          "data": {
            "text/plain": [
              "ising2d_classifier(\n",
              "  (features): Sequential(\n",
              "    (0): Conv2d(1, 16, kernel_size=(5, 5), stride=(1, 1), padding=(2, 2))\n",
              "    (1): ReLU(inplace=True)\n",
              "    (2): MaxPool2d(kernel_size=2, stride=2, padding=0, dilation=1, ceil_mode=False)\n",
              "    (3): Conv2d(16, 32, kernel_size=(3, 3), stride=(1, 1), padding=(1, 1))\n",
              "    (4): ReLU(inplace=True)\n",
              "    (5): MaxPool2d(kernel_size=2, stride=2, padding=0, dilation=1, ceil_mode=False)\n",
              "    (6): Conv2d(32, 64, kernel_size=(3, 3), stride=(1, 1), padding=(1, 1))\n",
              "    (7): ReLU(inplace=True)\n",
              "  )\n",
              "  (classifier): Linear(in_features=1600, out_features=1, bias=True)\n",
              ")"
            ]
          },
          "metadata": {},
          "execution_count": 12
        }
      ]
    },
    {
      "cell_type": "code",
      "source": [
        "criterion = nn.BCELoss()\n",
        "optimizer = optim.Adam(model.parameters(), lr=0.0001)"
      ],
      "metadata": {
        "id": "ApymrQzCNsDv"
      },
      "execution_count": 13,
      "outputs": []
    },
    {
      "cell_type": "code",
      "source": [
        "num_epoch = 20\n",
        "losses = []\n",
        "accs = []\n",
        "val_losses = []\n",
        "val_accs = []\n",
        "batch_size = 128\n",
        "for epoch in range(num_epoch):\n",
        "    running_loss = 0.0\n",
        "    running_acc = 0.0\n",
        "    # ＿getitem__で return features, labelsにしているから、input,labelsの順番にこれらが入る\n",
        "    for _,input, labels in train_data_loader:\n",
        "        input = input.to(device)\n",
        "        labels = labels.to(device)\n",
        "        optimizer.zero_grad()\n",
        "        output = model(input)\n",
        "        output = output.view(-1)\n",
        "        loss = criterion(output, labels)\n",
        "        running_loss += loss.item()\n",
        "        # 正解率の計算あまりよくないかも\n",
        "        running_acc += torch.mean(((labels - output).abs() < 0.5).float())\n",
        "        loss.backward()\n",
        "        optimizer.step()\n",
        "    running_loss  /= len(train_data_loader)\n",
        "    running_acc /= len(train_data_loader)\n",
        "    losses.append(running_loss)\n",
        "    accs.append(running_acc.cpu())\n",
        "    #\n",
        "    # validation\n",
        "    #\n",
        "    val_running_loss = 0.0\n",
        "    val_running_acc = 0.0\n",
        "    for _,val_input, val_labels in val_data_loader:\n",
        "        val_input = val_input.to(device)\n",
        "        val_labels = val_labels.to(device)\n",
        "        val_output = model(val_input)\n",
        "        val_output = val_output.view(-1)\n",
        "        val_loss = criterion(val_output, val_labels)\n",
        "        val_running_loss += val_loss.item()\n",
        "        val_running_acc += torch.mean(((val_labels - val_output).abs() < 0.5).float())\n",
        "    val_running_loss /= len(val_data_loader)\n",
        "    val_running_acc /= len(val_data_loader)\n",
        "    val_losses.append(val_running_loss)\n",
        "    val_accs.append(val_running_acc.cpu())\n",
        "    print(\"epoch:{}, loss:{}, acc:{}, val loss:{}, val acc:{}, \\\n",
        "    \".format(epoch+1, running_loss, running_acc, val_running_loss, val_running_acc))\n"
      ],
      "metadata": {
        "colab": {
          "base_uri": "https://localhost:8080/"
        },
        "id": "SfSYiHuEwXJo",
        "outputId": "dbcaf0cd-ac6d-428f-defd-8d1b3b7867a9"
      },
      "execution_count": 14,
      "outputs": [
        {
          "output_type": "stream",
          "name": "stdout",
          "text": [
            "epoch:1, loss:0.6713509805062238, acc:0.6374080777168274, val loss:0.6444026877482733, val acc:0.5525174140930176,     \n",
            "epoch:2, loss:0.5895659327507019, acc:0.6209648251533508, val loss:0.5692778080701828, val acc:0.6794704794883728,     \n",
            "epoch:3, loss:0.47373419649460735, acc:0.781395673751831, val loss:0.4477008531490962, val acc:0.8391927480697632,     \n",
            "epoch:4, loss:0.32683637825881734, acc:0.946579098701477, val loss:0.3086559325456619, val acc:0.9576823115348816,     \n",
            "epoch:5, loss:0.1828139792470371, acc:0.9894301295280457, val loss:0.18034859001636505, val acc:0.990234375,     \n",
            "epoch:6, loss:0.08640390853671466, acc:1.0, val loss:0.09946007716159026, val acc:0.9947916865348816,     \n",
            "epoch:7, loss:0.03865929594373002, acc:1.0, val loss:0.06248574610799551, val acc:0.994140625,     \n",
            "epoch:8, loss:0.02025912789737477, acc:1.0, val loss:0.04477535064021746, val acc:0.9954427480697632,     \n",
            "epoch:9, loss:0.012454246033859603, acc:1.0, val loss:0.03289803839288652, val acc:0.994140625,     \n",
            "epoch:10, loss:0.008692419252303593, acc:0.9995404481887817, val loss:0.028863328974694014, val acc:0.9954427480697632,     \n",
            "epoch:11, loss:0.0066489575786844776, acc:1.0, val loss:0.0237509577224652, val acc:0.99609375,     \n",
            "epoch:12, loss:0.005348024506341009, acc:1.0, val loss:0.024517987078676622, val acc:0.99609375,     \n",
            "epoch:13, loss:0.004454234012347811, acc:1.0, val loss:0.020213759038597345, val acc:0.99609375,     \n",
            "epoch:14, loss:0.0036628237131106503, acc:1.0, val loss:0.017219087089567136, val acc:0.99609375,     \n",
            "epoch:15, loss:0.003143687061417629, acc:1.0, val loss:0.016734268981963396, val acc:0.9954427480697632,     \n",
            "epoch:16, loss:0.0027211996288422275, acc:1.0, val loss:0.0153658032650128, val acc:0.9954427480697632,     \n",
            "epoch:17, loss:0.002400853582110037, acc:1.0, val loss:0.014350307057611644, val acc:0.99609375,     \n",
            "epoch:18, loss:0.002082489287097226, acc:1.0, val loss:0.014969852364932498, val acc:0.99609375,     \n",
            "epoch:19, loss:0.0018282453050179517, acc:1.0, val loss:0.013750044357342025, val acc:0.99609375,     \n",
            "epoch:20, loss:0.0017151533187750507, acc:1.0, val loss:0.013111983697550992, val acc:0.99609375,     \n"
          ]
        }
      ]
    },
    {
      "cell_type": "code",
      "source": [
        "plt.plot(losses, label='train_loss')\n",
        "plt.plot(val_losses,label='val_loss')\n",
        "plt.legend()"
      ],
      "metadata": {
        "id": "TGqQOGok7MWI",
        "colab": {
          "base_uri": "https://localhost:8080/",
          "height": 451
        },
        "outputId": "504f17ed-4c0c-4e54-e831-0b311f219a76"
      },
      "execution_count": 15,
      "outputs": [
        {
          "output_type": "execute_result",
          "data": {
            "text/plain": [
              "<matplotlib.legend.Legend at 0x78bbeace85d0>"
            ]
          },
          "metadata": {},
          "execution_count": 15
        },
        {
          "output_type": "display_data",
          "data": {
            "text/plain": [
              "<Figure size 640x480 with 1 Axes>"
            ],
            "image/png": "[encoded data removed]"
          },
          "metadata": {}
        }
      ]
    },
    {
      "cell_type": "code",
      "source": [
        "plt.plot(accs, label='train_acc')\n",
        "plt.plot(val_accs,label='val_acc')\n",
        "plt.legend()"
      ],
      "metadata": {
        "colab": {
          "base_uri": "https://localhost:8080/",
          "height": 448
        },
        "id": "d9qDkRRrX3QG",
        "outputId": "9db53d06-718d-4976-b2fc-6fc89b06849b"
      },
      "execution_count": 16,
      "outputs": [
        {
          "output_type": "execute_result",
          "data": {
            "text/plain": [
              "<matplotlib.legend.Legend at 0x78bbf2270510>"
            ]
          },
          "metadata": {},
          "execution_count": 16
        },
        {
          "output_type": "display_data",
          "data": {
            "text/plain": [
              "<Figure size 640x480 with 1 Axes>"
            ],
            "image/png": "[encoded data removed]"
          },
          "metadata": {}
        }
      ]
    },
    {
      "cell_type": "code",
      "source": [
        "val_temp = []\n",
        "val_pred_labels = []\n",
        "for temp,spins, labels in val_data_loader:\n",
        "    val_spins = spins.to(device)\n",
        "    val_labels = labels.to(device)\n",
        "    val_output = model(val_spins)\n",
        "    val_output = val_output.view(-1)\n",
        "    val_temp.extend(temp.numpy())\n",
        "    val_pred_labels.extend(val_output.cpu().detach().numpy())\n"
      ],
      "metadata": {
        "id": "Jhlhp6UiX8UT"
      },
      "execution_count": 17,
      "outputs": []
    },
    {
      "cell_type": "code",
      "source": [
        "# 温度ごとにラベルの平均をとる\n",
        "df = pd.DataFrame({'temp':val_temp, 'pred_labels':val_pred_labels})\n",
        "result = df.groupby('temp').mean()"
      ],
      "metadata": {
        "id": "UBQzVOfchKeo"
      },
      "execution_count": 18,
      "outputs": []
    },
    {
      "cell_type": "code",
      "source": [
        "plt.scatter(result.index, result.values)\n",
        "plt.plot(result.index, result.values)\n",
        "plt.xticks([2.27])\n",
        "plt.xlabel('Temperature')\n",
        "plt.ylabel('labels')"
      ],
      "metadata": {
        "colab": {
          "base_uri": "https://localhost:8080/",
          "height": 467
        },
        "id": "qQVzpsW7i-q-",
        "outputId": "2f7fa773-32f7-4b09-86aa-f9e7777c6d4c"
      },
      "execution_count": 19,
      "outputs": [
        {
          "output_type": "execute_result",
          "data": {
            "text/plain": [
              "Text(0, 0.5, 'labels')"
            ]
          },
          "metadata": {},
          "execution_count": 19
        },
        {
          "output_type": "display_data",
          "data": {
            "text/plain": [
              "<Figure size 640x480 with 1 Axes>"
            ],
            "image/png": "[encoded data removed]"
          },
          "metadata": {}
        }
      ]
    }
  ]
}